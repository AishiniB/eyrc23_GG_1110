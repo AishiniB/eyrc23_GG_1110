{
 "cells": [
  {
   "cell_type": "code",
   "execution_count": 109,
   "id": "be15a59f-b1fe-4846-b4ad-32fa932aef38",
   "metadata": {},
   "outputs": [],
   "source": [
    "#importing necessary libraries\n",
    "import matplotlib.pyplot as plt\n",
    "import cv2\n",
    "import numpy as np"
   ]
  },
  {
   "cell_type": "code",
   "execution_count": 126,
   "id": "092eea6a-ba9e-4095-95ae-f6a561493085",
   "metadata": {},
   "outputs": [],
   "source": [
    "# a screenshot of the arena image is loaded\n",
    "\n",
    "image = cv2.imread(r'C:\\Users\\adith\\Jupyter Projects\\Deep Learning\\Task4\\Arena.png',cv2.IMREAD_COLOR)"
   ]
  },
  {
   "cell_type": "code",
   "execution_count": 111,
   "id": "559359bd-75c2-4823-94ae-c398bc95f7f5",
   "metadata": {},
   "outputs": [],
   "source": [
    "# the image is converted to grayscale \n",
    "\n",
    "image_gray = cv2.cvtColor(image,cv2.COLOR_BGR2GRAY)"
   ]
  },
  {
   "cell_type": "code",
   "execution_count": 112,
   "id": "d7d656a9-c297-40a1-ab32-4f8ccaa8df54",
   "metadata": {},
   "outputs": [],
   "source": [
    "# a black mask is made\n",
    "# an array will store the coordinates of the bottom left corner of the images\n",
    "\n",
    "coordinates = []\n",
    "mask = np.zeros_like(image_gray)\n",
    "\n",
    "# the threshold is set. Here we choose the target threshold to be close to white and the max value to be white (since the borders of the disaster \n",
    "# images are white)\n",
    "    \n",
    "thresh, image_edges = cv2.threshold(image_gray,253,255,cv2.THRESH_BINARY)\n",
    "\n",
    "# the contours are found and sorted in a contours array. For each contour, if the width and height are the same and the\n",
    "# ratio of the arena width to the image width falls in range, then we add it to the mask in colour \n",
    "# using the bitwise AND \n",
    "\n",
    "contours,_ = cv2.findContours(image_edges, cv2.RETR_EXTERNAL, cv2.CHAIN_APPROX_SIMPLE)\n",
    "contours = sorted(contours,key=cv2.contourArea)\n",
    "for contour in contours:\n",
    "    x,y,w,h = cv2.boundingRect(contour)\n",
    "    if w/h == 1 and image.shape[0] / w >= 10 and image.shape[0] / w <= 14:\n",
    "        cv2.drawContours(mask, [contour],-1, 255, -1)\n",
    "        result = cv2.bitwise_and(image, image, mask=mask)\n",
    "        coordinates.append([x,y,w,h])\n"
   ]
  },
  {
   "cell_type": "code",
   "execution_count": 113,
   "id": "7dca3434-28f5-4304-ac5e-31588ea939fa",
   "metadata": {},
   "outputs": [],
   "source": [
    "cv2.imshow(\"image\",result)\n",
    "cv2.waitKey(0)\n",
    "cv2.destroyAllWindows()"
   ]
  },
  {
   "cell_type": "code",
   "execution_count": 114,
   "id": "1228c6c3-ac91-4b2c-b615-77da6562e8d3",
   "metadata": {},
   "outputs": [
    {
     "data": {
      "text/plain": [
       "[[327, 230, 46, 46],\n",
       " [98, 424, 46, 46],\n",
       " [91, 230, 46, 46],\n",
       " [100, 71, 46, 46],\n",
       " [323, 328, 47, 47]]"
      ]
     },
     "execution_count": 114,
     "metadata": {},
     "output_type": "execute_result"
    }
   ],
   "source": [
    "coordinates"
   ]
  },
  {
   "cell_type": "code",
   "execution_count": 115,
   "id": "9df05f37-76de-43e7-b298-c9cca5dec656",
   "metadata": {},
   "outputs": [],
   "source": [
    "image_set = []\n",
    "\n",
    "# all the images are put in an image array and resized with white borders removed\n",
    "\n",
    "for coordinate in coordinates:\n",
    "    x = coordinate[0] + 5\n",
    "    y = coordinate[1] + 5\n",
    "    w = coordinate[2] - 10\n",
    "    h = coordinate[3] - 10\n",
    "    img = cv2.resize(result[y:y+h, x:x+w],(50,50), interpolation = cv2.INTER_LINEAR)\n",
    "    image_set.append(img)"
   ]
  },
  {
   "cell_type": "code",
   "execution_count": 116,
   "id": "89aa77f6-8341-4fe7-862a-39913cf003a6",
   "metadata": {},
   "outputs": [],
   "source": [
    "for img in image_set:\n",
    "    cv2.imshow('image',img)\n",
    "    cv2.waitKey(0)\n",
    "    cv2.destroyAllWindows()"
   ]
  },
  {
   "cell_type": "code",
   "execution_count": 117,
   "id": "158b3d2f-a3cc-48f6-8fa8-a3717642485f",
   "metadata": {},
   "outputs": [],
   "source": [
    "# images are saved in the current working directory\n",
    "\n",
    "i = 1\n",
    "for img in image_set:\n",
    "    cv2.imwrite(f\"img{i}.png\",img)\n",
    "    i = i + 1"
   ]
  },
  {
   "cell_type": "code",
   "execution_count": 118,
   "id": "118e9e69-1ef3-4710-b9f6-0022797e3aaa",
   "metadata": {},
   "outputs": [],
   "source": [
    "import tensorflow as tf"
   ]
  },
  {
   "cell_type": "code",
   "execution_count": 25,
   "id": "6ff51b93-8533-46d1-86ed-c4b0278e996d",
   "metadata": {},
   "outputs": [],
   "source": [
    "# loading the model for image classification (the outputs shown below is NOT corresponding\n",
    "# to the model that will be used finally)\n",
    "\n",
    "model = tf.keras.models.load_model('model.pth')"
   ]
  },
  {
   "cell_type": "code",
   "execution_count": 119,
   "id": "e5664432-2f90-4bea-9b5c-c3557852433f",
   "metadata": {},
   "outputs": [
    {
     "name": "stdout",
     "output_type": "stream",
     "text": [
      "1/1 [==============================] - 0s 37ms/step\n",
      "1/1 [==============================] - 0s 40ms/step\n",
      "1/1 [==============================] - 0s 29ms/step\n",
      "1/1 [==============================] - 0s 30ms/step\n",
      "1/1 [==============================] - 0s 31ms/step\n"
     ]
    }
   ],
   "source": [
    "# based on softmax output, assigning classes predicted by the model\n",
    "\n",
    "predictions = []\n",
    "for img in image_set:\n",
    "    pred_arr = model.predict(np.array([img]))\n",
    "    pred_val = np.where(pred_arr[0] == max(pred_arr[0]))[0][0]\n",
    "    if pred_val == 0:\n",
    "        pred = \"combat\"\n",
    "    elif pred_val == 1:\n",
    "        pred = 'human_aid_rehabilitation'\n",
    "    elif pred_val == 2:\n",
    "        pred = 'fire'\n",
    "    elif pred_val == 3:\n",
    "        pred = 'military_vehicles'\n",
    "    elif pred_val == 4:\n",
    "        pred = 'destroyed_buildings'\n",
    "    predictions.append(pred)"
   ]
  },
  {
   "cell_type": "code",
   "execution_count": 120,
   "id": "231b1110-c194-4341-b778-d4dbfcbbde4d",
   "metadata": {},
   "outputs": [
    {
     "data": {
      "text/plain": [
       "['military_vehicles',\n",
       " 'fire',\n",
       " 'military_vehicles',\n",
       " 'human_aid_rehabilitation',\n",
       " 'military_vehicles']"
      ]
     },
     "execution_count": 120,
     "metadata": {},
     "output_type": "execute_result"
    }
   ],
   "source": [
    "predictions"
   ]
  },
  {
   "cell_type": "code",
   "execution_count": 127,
   "id": "c1e3bee7-2992-4b4c-a28b-f5042015174c",
   "metadata": {},
   "outputs": [],
   "source": [
    "# adding the bounding box (green) with class description (green) to the image\n",
    "# coordinates are stored in the coordinates array (done earlier)\n",
    "\n",
    "for i,coordinate in enumerate(coordinates):\n",
    "    x = coordinate[0] \n",
    "    y = coordinate[1] \n",
    "    w = coordinate[2] \n",
    "    h = coordinate[3]\n",
    "    img_with_box = cv2.rectangle(image,(x,y),(x+w,y+h),(0,255,0), 2)\n",
    "    cv2.putText(image, predictions[i], (x, y-10), cv2.FONT_HERSHEY_SIMPLEX, 0.5, (0,255,0), 2)"
   ]
  },
  {
   "cell_type": "code",
   "execution_count": 128,
   "id": "4a779723-1e06-48c4-8611-dfb2ed17527a",
   "metadata": {},
   "outputs": [],
   "source": [
    "cv2.imshow(\"imagebox\",img_with_box)\n",
    "cv2.waitKey(0)\n",
    "cv2.destroyAllWindows()"
   ]
  },
  {
   "cell_type": "code",
   "execution_count": null,
   "id": "7d92ac3f-34e4-41e7-9192-31057b0bbcfb",
   "metadata": {},
   "outputs": [],
   "source": []
  }
 ],
 "metadata": {
  "kernelspec": {
   "display_name": "Python 3 (ipykernel)",
   "language": "python",
   "name": "python3"
  },
  "language_info": {
   "codemirror_mode": {
    "name": "ipython",
    "version": 3
   },
   "file_extension": ".py",
   "mimetype": "text/x-python",
   "name": "python",
   "nbconvert_exporter": "python",
   "pygments_lexer": "ipython3",
   "version": "3.9.18"
  }
 },
 "nbformat": 4,
 "nbformat_minor": 5
}
