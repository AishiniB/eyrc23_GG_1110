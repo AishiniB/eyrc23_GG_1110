{
 "cells": [
  {
   "cell_type": "code",
   "execution_count": 1,
   "id": "be15a59f-b1fe-4846-b4ad-32fa932aef38",
   "metadata": {},
   "outputs": [],
   "source": [
    "#importing necessary libraries\n",
    "\n",
    "import cv2\n",
    "import numpy as np"
   ]
  },
  {
   "cell_type": "code",
   "execution_count": 2,
   "id": "092eea6a-ba9e-4095-95ae-f6a561493085",
   "metadata": {},
   "outputs": [],
   "source": [
    "# a screenshot of the arena image is loaded\n",
    "\n",
    "image = cv2.imread(r'C:\\Users\\adith\\Jupyter Projects\\Deep Learning\\Task4\\Arena.png',cv2.IMREAD_COLOR)"
   ]
  },
  {
   "cell_type": "code",
   "execution_count": 3,
   "id": "559359bd-75c2-4823-94ae-c398bc95f7f5",
   "metadata": {},
   "outputs": [],
   "source": [
    "# the image is converted to grayscale \n",
    "\n",
    "image_gray = cv2.cvtColor(image,cv2.COLOR_BGR2GRAY)"
   ]
  },
  {
   "cell_type": "code",
   "execution_count": 4,
   "id": "d7d656a9-c297-40a1-ab32-4f8ccaa8df54",
   "metadata": {},
   "outputs": [],
   "source": [
    "# a black mask is made\n",
    "\n",
    "mask = np.zeros_like(image_gray)\n",
    "\n",
    "# the threshold is set. Here we choose the target threshold to be close to white and the max value to be white (since the borders of the disaster \n",
    "# images are white)\n",
    "    \n",
    "thresh, image_edges = cv2.threshold(image_gray,253,255,cv2.THRESH_BINARY)\n",
    "\n",
    "# the contours are found and sorted in a contours array. For each contour, if the width and height are the same, then we add it to the mask in colour \n",
    "# using the bitwise AND \n",
    "\n",
    "contours,_ = cv2.findContours(image_edges, cv2.RETR_EXTERNAL, cv2.CHAIN_APPROX_SIMPLE)\n",
    "contours = sorted(contours,key=cv2.contourArea)\n",
    "for contour in contours:\n",
    "    x,y,w,h = cv2.boundingRect(contour)\n",
    "    if w/h == 1:\n",
    "        cv2.drawContours(mask, [contour],-1, 255, -1)\n",
    "        result = cv2.bitwise_and(image, image, mask=mask)\n"
   ]
  },
  {
   "cell_type": "code",
   "execution_count": 5,
   "id": "7dca3434-28f5-4304-ac5e-31588ea939fa",
   "metadata": {},
   "outputs": [],
   "source": [
    "cv2.imshow(\"image\",result)\n",
    "cv2.waitKey(0)\n",
    "cv2.destroyAllWindows()"
   ]
  },
  {
   "cell_type": "code",
   "execution_count": null,
   "id": "9df05f37-76de-43e7-b298-c9cca5dec656",
   "metadata": {},
   "outputs": [],
   "source": []
  }
 ],
 "metadata": {
  "kernelspec": {
   "display_name": "Python 3 (ipykernel)",
   "language": "python",
   "name": "python3"
  },
  "language_info": {
   "codemirror_mode": {
    "name": "ipython",
    "version": 3
   },
   "file_extension": ".py",
   "mimetype": "text/x-python",
   "name": "python",
   "nbconvert_exporter": "python",
   "pygments_lexer": "ipython3",
   "version": "3.9.18"
  }
 },
 "nbformat": 4,
 "nbformat_minor": 5
}
