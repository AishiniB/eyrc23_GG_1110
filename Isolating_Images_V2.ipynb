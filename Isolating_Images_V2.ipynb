{
 "cells": [
  {
   "cell_type": "code",
   "execution_count": 1,
   "id": "be15a59f-b1fe-4846-b4ad-32fa932aef38",
   "metadata": {},
   "outputs": [],
   "source": [
    "#importing necessary libraries\n",
    "import matplotlib.pyplot as plt\n",
    "import cv2\n",
    "import numpy as np"
   ]
  },
  {
   "cell_type": "code",
   "execution_count": 2,
   "id": "092eea6a-ba9e-4095-95ae-f6a561493085",
   "metadata": {},
   "outputs": [],
   "source": [
    "# a screenshot of the arena image is loaded\n",
    "\n",
    "image = cv2.imread(r'C:\\Users\\adith\\Jupyter Projects\\Deep Learning\\Task4\\Arena.png',cv2.IMREAD_COLOR)"
   ]
  },
  {
   "cell_type": "code",
   "execution_count": 3,
   "id": "559359bd-75c2-4823-94ae-c398bc95f7f5",
   "metadata": {},
   "outputs": [],
   "source": [
    "# the image is converted to grayscale \n",
    "\n",
    "image_gray = cv2.cvtColor(image,cv2.COLOR_BGR2GRAY)"
   ]
  },
  {
   "cell_type": "code",
   "execution_count": 4,
   "id": "d7d656a9-c297-40a1-ab32-4f8ccaa8df54",
   "metadata": {},
   "outputs": [],
   "source": [
    "# a black mask is made\n",
    "# an array will store the coordinates of the bottom left corner of the images\n",
    "\n",
    "coordinates = []\n",
    "mask = np.zeros_like(image_gray)\n",
    "\n",
    "# the threshold is set. Here we choose the target threshold to be close to white and the max value to be white (since the borders of the disaster \n",
    "# images are white)\n",
    "    \n",
    "thresh, image_edges = cv2.threshold(image_gray,253,255,cv2.THRESH_BINARY)\n",
    "\n",
    "# the contours are found and sorted in a contours array. For each contour, if the width and height are the same and the\n",
    "# ratio of the arena width to the image width falls in range, then we add it to the mask in colour \n",
    "# using the bitwise AND \n",
    "\n",
    "contours,_ = cv2.findContours(image_edges, cv2.RETR_EXTERNAL, cv2.CHAIN_APPROX_SIMPLE)\n",
    "contours = sorted(contours,key=cv2.contourArea)\n",
    "for contour in contours:\n",
    "    x,y,w,h = cv2.boundingRect(contour)\n",
    "    if w/h == 1 and image.shape[0] / w >= 10 and image.shape[0] / w <= 14:\n",
    "        cv2.drawContours(mask, [contour],-1, 255, -1)\n",
    "        result = cv2.bitwise_and(image, image, mask=mask)\n",
    "        coordinates.append([x,y,w,h])\n"
   ]
  },
  {
   "cell_type": "code",
   "execution_count": 5,
   "id": "7dca3434-28f5-4304-ac5e-31588ea939fa",
   "metadata": {},
   "outputs": [],
   "source": [
    "cv2.imshow(\"image\",result)\n",
    "cv2.waitKey(0)\n",
    "cv2.destroyAllWindows()"
   ]
  },
  {
   "cell_type": "code",
   "execution_count": 6,
   "id": "1228c6c3-ac91-4b2c-b615-77da6562e8d3",
   "metadata": {},
   "outputs": [
    {
     "data": {
      "text/plain": [
       "[[327, 230, 46, 46],\n",
       " [98, 424, 46, 46],\n",
       " [91, 230, 46, 46],\n",
       " [100, 71, 46, 46],\n",
       " [323, 328, 47, 47]]"
      ]
     },
     "execution_count": 6,
     "metadata": {},
     "output_type": "execute_result"
    }
   ],
   "source": [
    "coordinates"
   ]
  },
  {
   "cell_type": "code",
   "execution_count": 11,
   "id": "9df05f37-76de-43e7-b298-c9cca5dec656",
   "metadata": {},
   "outputs": [],
   "source": [
    "image_set = []\n",
    "\n",
    "# all the images are put in an image array and resized with white borders removed\n",
    "\n",
    "for coordinate in coordinates:\n",
    "    x = coordinate[0] + 5\n",
    "    y = coordinate[1] + 5\n",
    "    w = coordinate[2] - 10\n",
    "    h = coordinate[3] - 10\n",
    "    img = cv2.resize(result[y:y+h, x:x+w],(50,50), interpolation = cv2.INTER_LINEAR)\n",
    "    image_set.append(img)"
   ]
  },
  {
   "cell_type": "code",
   "execution_count": 19,
   "id": "89aa77f6-8341-4fe7-862a-39913cf003a6",
   "metadata": {},
   "outputs": [],
   "source": [
    "for img in image_set:\n",
    "    cv2.imshow('image',img)\n",
    "    cv2.waitKey(0)\n",
    "    cv2.destroyAllWindows()"
   ]
  },
  {
   "cell_type": "code",
   "execution_count": 23,
   "id": "158b3d2f-a3cc-48f6-8fa8-a3717642485f",
   "metadata": {},
   "outputs": [],
   "source": [
    "# images are saved in the current wor\n",
    "\n",
    "i = 1\n",
    "for img in image_set:\n",
    "    cv2.imwrite(f\"img{i}.png\",img)\n",
    "    i = i + 1"
   ]
  },
  {
   "cell_type": "code",
   "execution_count": null,
   "id": "a675fb72-5b38-4591-b301-583b3cfecd6a",
   "metadata": {},
   "outputs": [],
   "source": []
  }
 ],
 "metadata": {
  "kernelspec": {
   "display_name": "Python 3 (ipykernel)",
   "language": "python",
   "name": "python3"
  },
  "language_info": {
   "codemirror_mode": {
    "name": "ipython",
    "version": 3
   },
   "file_extension": ".py",
   "mimetype": "text/x-python",
   "name": "python",
   "nbconvert_exporter": "python",
   "pygments_lexer": "ipython3",
   "version": "3.9.18"
  }
 },
 "nbformat": 4,
 "nbformat_minor": 5
}
